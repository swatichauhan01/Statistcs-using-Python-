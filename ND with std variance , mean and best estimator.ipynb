{
 "cells": [
  {
   "cell_type": "code",
   "execution_count": 40,
   "metadata": {},
   "outputs": [],
   "source": [
    "import numpy as np \n",
    "import matplotlib.pyplot as plt \n",
    "samples = np.random.normal(loc=65,scale=5,size=(100,25))\n"
   ]
  },
  {
   "cell_type": "code",
   "execution_count": 41,
   "metadata": {},
   "outputs": [
    {
     "data": {
      "text/plain": [
       "([array([0., 0., 0., 0., 0., 0., 0., 0., 0., 0., 0., 0., 0., 0., 0., 2., 0.,\n",
       "         0., 0., 0., 0., 0., 1., 1., 0., 1., 1., 1., 2., 0., 3., 0., 1., 4.,\n",
       "         3., 1., 5., 2., 5., 3., 1., 3., 1., 3., 3., 2., 4., 3., 3., 0., 3.,\n",
       "         2., 5., 2., 2., 3., 2., 3., 3., 2., 2., 1., 0., 2., 2., 0., 0., 2.,\n",
       "         1., 0., 0., 0., 0., 0., 2., 0., 2., 0., 0., 0., 0., 0., 0., 0., 0.,\n",
       "         0., 0., 0., 0., 0., 0., 0., 0., 0., 0., 0., 0., 0., 0., 0.]),\n",
       "  array([0., 0., 0., 0., 0., 0., 0., 0., 0., 0., 0., 0., 0., 0., 0., 0., 1.,\n",
       "         0., 0., 0., 0., 1., 0., 2., 0., 1., 0., 0., 1., 3., 4., 4., 2., 2.,\n",
       "         1., 0., 0., 3., 3., 2., 1., 1., 2., 2., 3., 2., 3., 0., 5., 3., 7.,\n",
       "         3., 3., 2., 3., 2., 3., 2., 1., 6., 3., 2., 1., 0., 0., 3., 0., 1.,\n",
       "         0., 0., 0., 0., 0., 2., 1., 0., 1., 1., 1., 0., 0., 0., 0., 0., 0.,\n",
       "         0., 0., 0., 0., 0., 0., 0., 0., 0., 0., 0., 0., 0., 0., 0.]),\n",
       "  array([0., 0., 0., 0., 0., 0., 0., 0., 0., 1., 0., 0., 0., 2., 1., 0., 0.,\n",
       "         0., 0., 2., 0., 0., 3., 1., 1., 0., 1., 0., 0., 0., 2., 0., 1., 3.,\n",
       "         0., 0., 2., 4., 2., 6., 1., 4., 2., 1., 6., 3., 3., 2., 4., 3., 2.,\n",
       "         1., 3., 5., 1., 3., 5., 2., 2., 3., 1., 0., 0., 1., 1., 2., 1., 0.,\n",
       "         0., 0., 1., 0., 1., 2., 0., 0., 0., 0., 0., 2., 0., 0., 0., 0., 0.,\n",
       "         0., 0., 0., 0., 0., 0., 0., 0., 0., 0., 0., 0., 0., 0., 0.]),\n",
       "  array([0., 0., 0., 0., 0., 0., 0., 0., 0., 0., 1., 0., 0., 0., 0., 0., 1.,\n",
       "         0., 1., 0., 0., 0., 1., 1., 0., 2., 3., 1., 1., 0., 1., 2., 2., 2.,\n",
       "         0., 4., 3., 2., 1., 0., 2., 2., 3., 3., 3., 1., 5., 4., 4., 2., 4.,\n",
       "         2., 1., 4., 2., 2., 2., 2., 3., 1., 0., 4., 2., 1., 0., 0., 1., 3.,\n",
       "         1., 0., 1., 0., 0., 0., 1., 0., 2., 1., 2., 0., 0., 0., 0., 0., 0.,\n",
       "         0., 0., 0., 0., 0., 0., 0., 0., 0., 0., 0., 0., 0., 0., 0.]),\n",
       "  array([0., 0., 0., 0., 0., 0., 0., 0., 1., 0., 0., 0., 1., 0., 1., 0., 0.,\n",
       "         0., 0., 1., 0., 1., 1., 0., 0., 2., 3., 2., 1., 1., 1., 2., 1., 1.,\n",
       "         3., 1., 1., 2., 2., 3., 1., 3., 3., 8., 5., 3., 2., 4., 3., 5., 4.,\n",
       "         2., 2., 2., 3., 0., 2., 1., 2., 2., 3., 0., 0., 1., 0., 0., 1., 2.,\n",
       "         1., 0., 0., 0., 2., 0., 0., 0., 1., 0., 0., 0., 0., 0., 0., 0., 0.,\n",
       "         0., 0., 0., 0., 0., 0., 0., 0., 0., 0., 0., 0., 0., 0., 0.]),\n",
       "  array([0., 0., 0., 0., 0., 0., 0., 0., 0., 0., 1., 1., 0., 0., 0., 0., 1.,\n",
       "         1., 1., 1., 1., 0., 1., 0., 1., 0., 2., 1., 1., 0., 1., 2., 2., 1.,\n",
       "         2., 0., 2., 1., 4., 5., 0., 3., 1., 2., 2., 1., 2., 2., 2., 1., 2.,\n",
       "         1., 5., 2., 2., 7., 2., 0., 2., 4., 2., 0., 2., 1., 1., 2., 0., 3.,\n",
       "         0., 2., 0., 4., 1., 1., 2., 0., 1., 0., 0., 1., 0., 0., 1., 0., 0.,\n",
       "         0., 0., 0., 0., 0., 0., 0., 0., 0., 0., 0., 0., 0., 0., 0.]),\n",
       "  array([0., 0., 0., 0., 0., 1., 0., 0., 1., 0., 1., 0., 0., 0., 0., 0., 0.,\n",
       "         0., 0., 0., 0., 0., 0., 0., 1., 1., 1., 5., 2., 1., 1., 1., 2., 3.,\n",
       "         2., 0., 1., 1., 7., 4., 5., 1., 4., 2., 4., 2., 4., 2., 0., 3., 1.,\n",
       "         2., 2., 4., 1., 1., 2., 2., 2., 1., 1., 1., 2., 2., 1., 1., 1., 3.,\n",
       "         0., 0., 0., 0., 0., 0., 0., 3., 0., 1., 0., 1., 0., 1., 0., 0., 0.,\n",
       "         0., 0., 0., 0., 0., 1., 0., 0., 0., 0., 0., 0., 0., 0., 0.]),\n",
       "  array([0., 0., 1., 0., 0., 0., 0., 0., 0., 0., 0., 1., 0., 0., 0., 0., 0.,\n",
       "         0., 0., 1., 1., 1., 1., 0., 2., 0., 1., 1., 1., 1., 3., 0., 1., 3.,\n",
       "         1., 2., 0., 4., 3., 1., 4., 3., 0., 2., 5., 2., 0., 0., 2., 5., 7.,\n",
       "         2., 2., 5., 5., 0., 2., 3., 1., 3., 0., 2., 2., 1., 0., 3., 2., 0.,\n",
       "         0., 0., 1., 0., 2., 2., 1., 0., 0., 0., 1., 0., 0., 0., 0., 0., 0.,\n",
       "         0., 0., 0., 0., 0., 0., 0., 0., 0., 0., 0., 0., 0., 0., 0.]),\n",
       "  array([0., 0., 0., 0., 0., 0., 0., 0., 0., 0., 0., 1., 0., 1., 0., 0., 0.,\n",
       "         0., 0., 0., 1., 1., 1., 1., 2., 1., 0., 2., 1., 1., 1., 3., 1., 2.,\n",
       "         3., 0., 2., 2., 4., 4., 1., 3., 4., 2., 3., 2., 1., 2., 2., 1., 2.,\n",
       "         4., 2., 4., 3., 4., 3., 2., 4., 1., 3., 2., 3., 0., 1., 1., 0., 0.,\n",
       "         2., 0., 1., 0., 0., 0., 0., 1., 0., 0., 0., 0., 0., 1., 0., 0., 0.,\n",
       "         0., 0., 0., 0., 0., 0., 0., 0., 0., 0., 0., 0., 0., 0., 0.]),\n",
       "  array([0., 0., 0., 0., 0., 0., 0., 0., 0., 1., 1., 0., 0., 0., 0., 0., 1.,\n",
       "         0., 0., 0., 0., 4., 0., 0., 0., 0., 0., 1., 1., 2., 1., 2., 0., 1.,\n",
       "         0., 6., 2., 2., 3., 1., 1., 4., 2., 6., 2., 1., 4., 2., 4., 3., 4.,\n",
       "         3., 3., 5., 3., 0., 0., 2., 1., 2., 1., 1., 1., 2., 1., 0., 1., 5.,\n",
       "         0., 1., 0., 0., 1., 0., 2., 1., 0., 0., 0., 0., 1., 0., 0., 0., 0.,\n",
       "         0., 0., 1., 0., 0., 0., 0., 0., 0., 0., 0., 0., 0., 0., 0.]),\n",
       "  array([0., 0., 0., 0., 0., 0., 0., 0., 0., 1., 0., 0., 1., 0., 1., 0., 0.,\n",
       "         0., 1., 2., 1., 1., 1., 1., 0., 0., 2., 2., 0., 1., 3., 3., 2., 1.,\n",
       "         2., 1., 2., 3., 1., 0., 4., 2., 4., 4., 2., 3., 6., 2., 1., 1., 2.,\n",
       "         2., 2., 3., 4., 5., 3., 1., 1., 1., 0., 0., 2., 2., 2., 0., 0., 1.,\n",
       "         0., 0., 1., 0., 0., 0., 2., 1., 0., 0., 1., 0., 0., 0., 1., 0., 1.,\n",
       "         0., 0., 0., 0., 0., 0., 0., 0., 0., 0., 0., 0., 0., 0., 0.]),\n",
       "  array([0., 0., 0., 0., 0., 0., 0., 0., 0., 1., 0., 0., 0., 0., 0., 1., 0.,\n",
       "         2., 1., 0., 0., 0., 0., 1., 0., 1., 2., 1., 2., 1., 3., 0., 0., 2.,\n",
       "         1., 0., 0., 4., 3., 2., 2., 1., 4., 8., 2., 5., 2., 6., 1., 1., 0.,\n",
       "         3., 3., 1., 2., 1., 2., 3., 2., 1., 2., 3., 2., 2., 0., 1., 0., 0.,\n",
       "         4., 1., 0., 0., 0., 0., 1., 1., 0., 0., 0., 2., 2., 0., 0., 1., 0.,\n",
       "         0., 0., 0., 0., 0., 0., 0., 0., 0., 0., 0., 0., 0., 0., 0.]),\n",
       "  array([0., 0., 0., 0., 0., 0., 0., 0., 0., 0., 0., 0., 0., 0., 0., 0., 0.,\n",
       "         1., 0., 0., 1., 1., 2., 1., 1., 0., 1., 0., 0., 3., 0., 1., 1., 3.,\n",
       "         3., 4., 2., 3., 3., 3., 7., 1., 3., 5., 2., 4., 1., 2., 1., 1., 8.,\n",
       "         1., 1., 3., 1., 2., 2., 4., 2., 2., 0., 1., 2., 0., 4., 1., 0., 0.,\n",
       "         0., 0., 1., 1., 1., 0., 0., 1., 0., 0., 0., 1., 0., 0., 0., 0., 0.,\n",
       "         0., 0., 0., 0., 0., 0., 0., 0., 0., 0., 0., 0., 0., 0., 0.]),\n",
       "  array([0., 0., 0., 0., 0., 0., 0., 0., 0., 0., 0., 0., 0., 1., 0., 1., 1.,\n",
       "         0., 2., 0., 0., 0., 1., 0., 0., 0., 1., 0., 1., 0., 1., 1., 1., 3.,\n",
       "         0., 1., 4., 3., 2., 0., 4., 7., 1., 2., 2., 0., 2., 3., 3., 3., 4.,\n",
       "         3., 3., 4., 4., 2., 2., 1., 5., 4., 0., 3., 3., 5., 0., 1., 0., 0.,\n",
       "         0., 2., 0., 0., 0., 2., 0., 0., 1., 0., 0., 0., 0., 0., 0., 0., 0.,\n",
       "         0., 0., 0., 0., 0., 0., 0., 0., 0., 0., 0., 0., 0., 0., 0.]),\n",
       "  array([0., 0., 0., 0., 0., 0., 0., 0., 0., 0., 0., 0., 0., 0., 0., 0., 1.,\n",
       "         1., 0., 0., 0., 0., 2., 0., 2., 0., 0., 0., 0., 3., 4., 0., 1., 3.,\n",
       "         2., 4., 1., 3., 0., 3., 4., 4., 2., 8., 4., 1., 3., 3., 4., 2., 2.,\n",
       "         6., 3., 3., 1., 2., 2., 1., 1., 0., 2., 1., 1., 1., 1., 1., 2., 3.,\n",
       "         0., 1., 0., 0., 1., 0., 0., 0., 0., 0., 0., 0., 0., 0., 0., 0., 0.,\n",
       "         0., 0., 0., 0., 0., 0., 0., 0., 0., 0., 0., 0., 0., 0., 0.]),\n",
       "  array([0., 0., 0., 0., 0., 0., 0., 0., 0., 0., 0., 0., 1., 0., 0., 0., 0.,\n",
       "         2., 0., 0., 0., 1., 0., 1., 0., 1., 2., 1., 1., 0., 1., 3., 0., 2.,\n",
       "         2., 0., 1., 1., 3., 1., 3., 1., 2., 7., 3., 5., 2., 7., 3., 4., 1.,\n",
       "         4., 1., 2., 0., 4., 2., 4., 1., 0., 5., 0., 2., 1., 3., 1., 0., 0.,\n",
       "         0., 2., 0., 2., 0., 0., 1., 1., 0., 0., 0., 0., 0., 0., 0., 0., 0.,\n",
       "         0., 0., 0., 0., 0., 0., 0., 1., 0., 0., 0., 0., 0., 0., 1.]),\n",
       "  array([0., 0., 0., 0., 0., 0., 0., 0., 0., 0., 1., 0., 0., 1., 0., 0., 0.,\n",
       "         0., 0., 0., 1., 0., 0., 1., 2., 1., 0., 0., 1., 3., 1., 0., 1., 1.,\n",
       "         2., 2., 2., 3., 3., 2., 1., 1., 4., 3., 3., 3., 5., 3., 2., 1., 2.,\n",
       "         9., 1., 2., 2., 6., 2., 2., 1., 1., 3., 3., 2., 3., 2., 0., 1., 0.,\n",
       "         0., 1., 2., 0., 1., 0., 0., 0., 0., 0., 0., 0., 0., 0., 0., 0., 0.,\n",
       "         0., 0., 0., 0., 0., 0., 0., 0., 0., 0., 0., 0., 0., 0., 0.]),\n",
       "  array([0., 0., 0., 0., 0., 0., 0., 0., 0., 1., 0., 0., 0., 0., 1., 2., 0.,\n",
       "         1., 0., 0., 1., 3., 2., 3., 1., 0., 0., 2., 0., 1., 2., 1., 1., 1.,\n",
       "         0., 3., 0., 3., 1., 6., 2., 3., 0., 3., 5., 3., 2., 3., 3., 2., 5.,\n",
       "         5., 1., 1., 1., 2., 1., 1., 2., 1., 1., 0., 3., 2., 0., 0., 1., 2.,\n",
       "         0., 0., 2., 0., 1., 0., 0., 1., 0., 0., 2., 1., 0., 1., 0., 0., 0.,\n",
       "         0., 1., 0., 0., 0., 0., 0., 0., 0., 0., 0., 0., 0., 0., 0.]),\n",
       "  array([0., 0., 0., 0., 0., 0., 0., 0., 0., 0., 0., 0., 0., 1., 1., 0., 0.,\n",
       "         0., 0., 0., 1., 0., 0., 0., 0., 0., 0., 4., 2., 4., 0., 2., 3., 3.,\n",
       "         4., 5., 1., 1., 5., 2., 2., 3., 3., 4., 2., 2., 1., 2., 4., 4., 2.,\n",
       "         1., 7., 1., 3., 1., 1., 3., 2., 0., 0., 2., 0., 1., 1., 1., 3., 0.,\n",
       "         0., 0., 2., 1., 0., 0., 0., 0., 0., 0., 1., 0., 1., 0., 0., 0., 0.,\n",
       "         0., 0., 0., 0., 0., 0., 0., 0., 0., 0., 0., 0., 0., 0., 0.]),\n",
       "  array([0., 0., 0., 0., 0., 0., 0., 0., 0., 0., 0., 0., 0., 0., 0., 0., 0.,\n",
       "         1., 0., 0., 1., 0., 0., 2., 0., 0., 5., 2., 2., 3., 1., 1., 2., 1.,\n",
       "         1., 2., 3., 1., 3., 0., 3., 3., 3., 3., 3., 1., 1., 6., 3., 6., 2.,\n",
       "         4., 3., 3., 1., 3., 1., 0., 2., 1., 3., 3., 0., 1., 3., 1., 0., 1.,\n",
       "         2., 0., 1., 1., 0., 0., 0., 0., 0., 0., 0., 0., 0., 0., 0., 0., 0.,\n",
       "         0., 0., 1., 0., 0., 0., 0., 0., 0., 0., 0., 0., 0., 0., 0.]),\n",
       "  array([0., 0., 0., 0., 0., 0., 0., 0., 0., 0., 0., 0., 0., 0., 0., 2., 1.,\n",
       "         1., 0., 0., 0., 1., 1., 2., 0., 3., 3., 2., 1., 2., 1., 3., 0., 2.,\n",
       "         0., 6., 1., 2., 1., 1., 1., 3., 3., 2., 2., 1., 3., 5., 3., 6., 3.,\n",
       "         1., 1., 4., 1., 2., 1., 2., 3., 3., 1., 1., 1., 2., 1., 2., 2., 0.,\n",
       "         1., 2., 0., 0., 1., 0., 0., 0., 0., 0., 0., 0., 0., 0., 0., 0., 0.,\n",
       "         0., 0., 0., 0., 0., 0., 0., 0., 0., 0., 0., 0., 0., 0., 0.]),\n",
       "  array([0., 0., 0., 0., 0., 0., 0., 0., 0., 0., 0., 0., 1., 0., 1., 0., 0.,\n",
       "         1., 0., 0., 1., 2., 1., 1., 0., 1., 0., 2., 1., 2., 3., 1., 2., 1.,\n",
       "         3., 2., 3., 1., 3., 1., 3., 1., 0., 3., 2., 1., 4., 4., 1., 2., 4.,\n",
       "         3., 0., 2., 1., 4., 3., 2., 1., 1., 4., 3., 1., 7., 0., 2., 1., 2.,\n",
       "         0., 0., 1., 1., 0., 0., 0., 1., 0., 1., 0., 0., 0., 0., 0., 0., 0.,\n",
       "         0., 0., 0., 0., 0., 0., 0., 0., 0., 0., 0., 0., 0., 0., 0.]),\n",
       "  array([0., 0., 0., 0., 0., 0., 0., 0., 0., 1., 0., 0., 0., 1., 0., 1., 1.,\n",
       "         0., 0., 0., 0., 0., 0., 1., 0., 0., 2., 0., 2., 3., 3., 2., 1., 0.,\n",
       "         1., 2., 1., 1., 2., 1., 4., 0., 3., 1., 7., 1., 5., 6., 1., 4., 4.,\n",
       "         2., 3., 2., 3., 3., 1., 2., 1., 3., 2., 0., 2., 1., 1., 0., 3., 1.,\n",
       "         0., 0., 1., 1., 1., 1., 2., 0., 0., 0., 0., 0., 0., 0., 0., 0., 1.,\n",
       "         0., 0., 0., 1., 0., 0., 0., 0., 0., 0., 0., 0., 0., 0., 0.]),\n",
       "  array([1., 0., 0., 0., 0., 0., 1., 0., 0., 0., 0., 0., 0., 1., 0., 0., 1.,\n",
       "         3., 0., 1., 1., 1., 0., 1., 0., 1., 1., 0., 1., 0., 0., 3., 1., 1.,\n",
       "         3., 1., 1., 4., 3., 5., 3., 3., 3., 3., 5., 5., 4., 4., 2., 2., 2.,\n",
       "         2., 3., 0., 1., 4., 2., 1., 4., 2., 2., 1., 0., 2., 0., 1., 0., 1.,\n",
       "         0., 0., 0., 0., 0., 0., 0., 0., 0., 1., 1., 0., 0., 0., 0., 0., 0.,\n",
       "         0., 0., 0., 0., 0., 0., 0., 0., 0., 0., 0., 0., 0., 0., 0.]),\n",
       "  array([0., 0., 0., 0., 0., 0., 0., 0., 0., 0., 0., 0., 1., 0., 0., 1., 0.,\n",
       "         0., 0., 0., 1., 1., 0., 2., 0., 1., 1., 1., 1., 1., 1., 2., 4., 0.,\n",
       "         1., 3., 1., 2., 2., 2., 3., 1., 2., 4., 0., 3., 2., 0., 3., 1., 2.,\n",
       "         5., 4., 5., 4., 3., 3., 1., 4., 3., 4., 2., 2., 1., 1., 2., 0., 1.,\n",
       "         0., 1., 1., 0., 1., 0., 0., 0., 1., 0., 0., 1., 0., 0., 0., 0., 0.,\n",
       "         0., 0., 0., 0., 0., 0., 0., 0., 0., 0., 0., 0., 0., 0., 0.])],\n",
       " array([48.26103371, 48.61931816, 48.97760261, 49.33588705, 49.6941715 ,\n",
       "        50.05245595, 50.4107404 , 50.76902484, 51.12730929, 51.48559374,\n",
       "        51.84387819, 52.20216263, 52.56044708, 52.91873153, 53.27701597,\n",
       "        53.63530042, 53.99358487, 54.35186932, 54.71015376, 55.06843821,\n",
       "        55.42672266, 55.7850071 , 56.14329155, 56.501576  , 56.85986045,\n",
       "        57.21814489, 57.57642934, 57.93471379, 58.29299823, 58.65128268,\n",
       "        59.00956713, 59.36785158, 59.72613602, 60.08442047, 60.44270492,\n",
       "        60.80098937, 61.15927381, 61.51755826, 61.87584271, 62.23412715,\n",
       "        62.5924116 , 62.95069605, 63.3089805 , 63.66726494, 64.02554939,\n",
       "        64.38383384, 64.74211828, 65.10040273, 65.45868718, 65.81697163,\n",
       "        66.17525607, 66.53354052, 66.89182497, 67.25010941, 67.60839386,\n",
       "        67.96667831, 68.32496276, 68.6832472 , 69.04153165, 69.3998161 ,\n",
       "        69.75810055, 70.11638499, 70.47466944, 70.83295389, 71.19123833,\n",
       "        71.54952278, 71.90780723, 72.26609168, 72.62437612, 72.98266057,\n",
       "        73.34094502, 73.69922946, 74.05751391, 74.41579836, 74.77408281,\n",
       "        75.13236725, 75.4906517 , 75.84893615, 76.2072206 , 76.56550504,\n",
       "        76.92378949, 77.28207394, 77.64035838, 77.99864283, 78.35692728,\n",
       "        78.71521173, 79.07349617, 79.43178062, 79.79006507, 80.14834951,\n",
       "        80.50663396, 80.86491841, 81.22320286, 81.5814873 , 81.93977175,\n",
       "        82.2980562 , 82.65634064, 83.01462509, 83.37290954, 83.73119399,\n",
       "        84.08947843]),\n",
       " <a list of 25 Lists of Patches objects>)"
      ]
     },
     "execution_count": 41,
     "metadata": {},
     "output_type": "execute_result"
    },
    {
     "data": {
      "image/png": "[encoded data removed]",
      "text/plain": [
       "<Figure size 432x288 with 1 Axes>"
      ]
     },
     "metadata": {
      "needs_background": "light"
     },
     "output_type": "display_data"
    }
   ],
   "source": [
    "plt.hist(samples,bins=100)"
   ]
  },
  {
   "cell_type": "code",
   "execution_count": 42,
   "metadata": {},
   "outputs": [],
   "source": [
    "sample_mean= np.mean(samples)"
   ]
  },
  {
   "cell_type": "code",
   "execution_count": 43,
   "metadata": {},
   "outputs": [
    {
     "data": {
      "text/plain": [
       "64.9194371380865"
      ]
     },
     "execution_count": 43,
     "metadata": {},
     "output_type": "execute_result"
    }
   ],
   "source": [
    "sample_mean"
   ]
  },
  {
   "cell_type": "code",
   "execution_count": 44,
   "metadata": {},
   "outputs": [
    {
     "data": {
      "text/plain": [
       "(array([0., 0., 0., 1., 0., 0.]),\n",
       " array([64.41943714, 64.5861038 , 64.75277047, 64.91943714, 65.0861038 ,\n",
       "        65.25277047, 65.41943714]),\n",
       " <a list of 6 Patch objects>)"
      ]
     },
     "execution_count": 44,
     "metadata": {},
     "output_type": "execute_result"
    },
    {
     "data": {
      "image/png": "[encoded data removed]",
      "text/plain": [
       "<Figure size 432x288 with 1 Axes>"
      ]
     },
     "metadata": {
      "needs_background": "light"
     },
     "output_type": "display_data"
    }
   ],
   "source": [
    "plt.hist(sample_mean, bins=6)"
   ]
  },
  {
   "cell_type": "markdown",
   "metadata": {},
   "source": [
    "# How Center Limit Theorem , proven "
   ]
  },
  {
   "cell_type": "code",
   "execution_count": 45,
   "metadata": {},
   "outputs": [],
   "source": [
    "best_estimate= np.mean(sample_mean)"
   ]
  },
  {
   "cell_type": "code",
   "execution_count": 46,
   "metadata": {},
   "outputs": [
    {
     "data": {
      "text/plain": [
       "64.9194371380865"
      ]
     },
     "execution_count": 46,
     "metadata": {},
     "output_type": "execute_result"
    }
   ],
   "source": [
    "best_estimate"
   ]
  },
  {
   "cell_type": "code",
   "execution_count": 47,
   "metadata": {},
   "outputs": [],
   "source": [
    "standard_variance=np.var(sample_mean)"
   ]
  },
  {
   "cell_type": "code",
   "execution_count": 48,
   "metadata": {},
   "outputs": [
    {
     "data": {
      "text/plain": [
       "0.0"
      ]
     },
     "execution_count": 48,
     "metadata": {},
     "output_type": "execute_result"
    }
   ],
   "source": [
    "standard_variance"
   ]
  },
  {
   "cell_type": "markdown",
   "metadata": {},
   "source": [
    "var_of_sampling_distribuation = variance of population distribution/ sample size "
   ]
  },
  {
   "cell_type": "code",
   "execution_count": 51,
   "metadata": {},
   "outputs": [],
   "source": [
    "std_var= 25/25"
   ]
  },
  {
   "cell_type": "code",
   "execution_count": 52,
   "metadata": {},
   "outputs": [
    {
     "data": {
      "text/plain": [
       "1.0"
      ]
     },
     "execution_count": 52,
     "metadata": {},
     "output_type": "execute_result"
    }
   ],
   "source": [
    "std_var"
   ]
  },
  {
   "cell_type": "code",
   "execution_count": null,
   "metadata": {},
   "outputs": [],
   "source": []
  },
  {
   "cell_type": "code",
   "execution_count": null,
   "metadata": {},
   "outputs": [],
   "source": []
  }
 ],
 "metadata": {
  "kernelspec": {
   "display_name": "Python 3",
   "language": "python",
   "name": "python3"
  },
  "language_info": {
   "codemirror_mode": {
    "name": "ipython",
    "version": 3
   },
   "file_extension": ".py",
   "mimetype": "text/x-python",
   "name": "python",
   "nbconvert_exporter": "python",
   "pygments_lexer": "ipython3",
   "version": "3.7.6"
  }
 },
 "nbformat": 4,
 "nbformat_minor": 2
}
